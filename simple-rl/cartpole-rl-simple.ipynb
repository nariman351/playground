{
 "cells": [
  {
   "cell_type": "code",
   "execution_count": 12,
   "metadata": {},
   "outputs": [
    {
     "name": "stderr",
     "output_type": "stream",
     "text": [
      "/home/nariman351/anaconda3/envs/playground/lib/python3.8/site-packages/gym/envs/registration.py:555: UserWarning: \u001b[33mWARN: The environment CartPole-v0 is out of date. You should consider upgrading to version `v1`.\u001b[0m\n",
      "  logger.warn(\n",
      "/home/nariman351/.local/lib/python3.8/site-packages/numpy/lib/shape_base.py:591: VisibleDeprecationWarning: Creating an ndarray from ragged nested sequences (which is a list-or-tuple of lists-or-tuples-or ndarrays with different lengths or shapes) is deprecated. If you meant to do this, you must specify 'dtype=object' when creating the ndarray.\n",
      "  a = asanyarray(a)\n"
     ]
    },
    {
     "ename": "ValueError",
     "evalue": "Failed to convert a NumPy array to a Tensor (Unsupported object type numpy.ndarray).",
     "output_type": "error",
     "traceback": [
      "\u001b[0;31m---------------------------------------------------------------------------\u001b[0m",
      "\u001b[0;31mValueError\u001b[0m                                Traceback (most recent call last)",
      "Cell \u001b[0;32mIn [12], line 42\u001b[0m\n\u001b[1;32m     39\u001b[0m     action \u001b[39m=\u001b[39m env\u001b[39m.\u001b[39maction_space\u001b[39m.\u001b[39msample()\n\u001b[1;32m     40\u001b[0m \u001b[39melse\u001b[39;00m:\n\u001b[1;32m     41\u001b[0m     \u001b[39m# use the model to predict the action with the highest value\u001b[39;00m\n\u001b[0;32m---> 42\u001b[0m     action \u001b[39m=\u001b[39m tf\u001b[39m.\u001b[39margmax(model(tf\u001b[39m.\u001b[39;49mconvert_to_tensor(np\u001b[39m.\u001b[39;49mexpand_dims(state, \u001b[39m0\u001b[39;49m))), \u001b[39m1\u001b[39m)\u001b[39m.\u001b[39mnumpy()[\u001b[39m0\u001b[39m]\n\u001b[1;32m     44\u001b[0m \u001b[39m# take the action and observe the new state, reward, and done flag\u001b[39;00m\n\u001b[1;32m     45\u001b[0m next_state, reward, done, _ \u001b[39m=\u001b[39m env\u001b[39m.\u001b[39mstep(action)\n",
      "File \u001b[0;32m~/anaconda3/envs/playground/lib/python3.8/site-packages/tensorflow/python/util/traceback_utils.py:153\u001b[0m, in \u001b[0;36mfilter_traceback.<locals>.error_handler\u001b[0;34m(*args, **kwargs)\u001b[0m\n\u001b[1;32m    151\u001b[0m \u001b[39mexcept\u001b[39;00m \u001b[39mException\u001b[39;00m \u001b[39mas\u001b[39;00m e:\n\u001b[1;32m    152\u001b[0m   filtered_tb \u001b[39m=\u001b[39m _process_traceback_frames(e\u001b[39m.\u001b[39m__traceback__)\n\u001b[0;32m--> 153\u001b[0m   \u001b[39mraise\u001b[39;00m e\u001b[39m.\u001b[39mwith_traceback(filtered_tb) \u001b[39mfrom\u001b[39;00m \u001b[39mNone\u001b[39m\n\u001b[1;32m    154\u001b[0m \u001b[39mfinally\u001b[39;00m:\n\u001b[1;32m    155\u001b[0m   \u001b[39mdel\u001b[39;00m filtered_tb\n",
      "File \u001b[0;32m~/anaconda3/envs/playground/lib/python3.8/site-packages/tensorflow/python/framework/constant_op.py:102\u001b[0m, in \u001b[0;36mconvert_to_eager_tensor\u001b[0;34m(value, ctx, dtype)\u001b[0m\n\u001b[1;32m    100\u001b[0m     dtype \u001b[39m=\u001b[39m dtypes\u001b[39m.\u001b[39mas_dtype(dtype)\u001b[39m.\u001b[39mas_datatype_enum\n\u001b[1;32m    101\u001b[0m ctx\u001b[39m.\u001b[39mensure_initialized()\n\u001b[0;32m--> 102\u001b[0m \u001b[39mreturn\u001b[39;00m ops\u001b[39m.\u001b[39;49mEagerTensor(value, ctx\u001b[39m.\u001b[39;49mdevice_name, dtype)\n",
      "\u001b[0;31mValueError\u001b[0m: Failed to convert a NumPy array to a Tensor (Unsupported object type numpy.ndarray)."
     ]
    }
   ],
   "source": [
    "import gym\n",
    "import tensorflow as tf\n",
    "import numpy as np\n",
    "# create the cartpole environment\n",
    "env = gym.make('CartPole-v0')\n",
    "\n",
    "# set the number of iterations and the initial value for epsilon\n",
    "num_iterations = 1000\n",
    "epsilon = 0.1\n",
    "\n",
    "# get the shape of the observation and action spaces\n",
    "obs_shape = env.observation_space.shape\n",
    "num_actions = env.action_space.n\n",
    "\n",
    "# create the model using the Keras functional API\n",
    "inputs = tf.keras.Input(shape=obs_shape)\n",
    "x = tf.keras.layers.Dense(64, activation='relu')(inputs)\n",
    "x = tf.keras.layers.Dense(64, activation='relu')(x)\n",
    "outputs = tf.keras.layers.Dense(num_actions)(x)\n",
    "model = tf.keras.Model(inputs, outputs)\n",
    "\n",
    "# compile the model with the Adam optimizer and the mean squared error loss function\n",
    "model.compile(optimizer=tf.keras.optimizers.Adam(0.01), loss='mse')\n",
    "\n",
    "# run the main loop for the specified number of iterations\n",
    "for i in range(num_iterations):\n",
    "    # reset the environment to the starting state\n",
    "    state = env.reset()\n",
    "\n",
    "    # initialize the reward and the done flag\n",
    "    total_reward = 0\n",
    "    done = False\n",
    "\n",
    "    # run the inner loop until the episode is done\n",
    "    while not done:\n",
    "        # determine the action using an epsilon-greedy policy\n",
    "        if np.random.uniform(0, 1) < epsilon:\n",
    "            # take a random action\n",
    "            action = env.action_space.sample()\n",
    "        else:\n",
    "            # use the model to predict the action with the highest value\n",
    "            action = tf.argmax(model(tf.convert_to_tensor(np.expand_dims(state, 0))), 1).numpy()[0]\n",
    "\n",
    "        # take the action and observe the new state, reward, and done flag\n",
    "        next_state, reward, done, _ = env.step(action)\n",
    "\n",
    "        # calculate the target value for the current state and action\n",
    "        target = reward + 0.99 * tf.reduce_max(model(tf.convert_to_tensor(np.expand_dims(next_state, 0))))\n",
    "\n",
    "        # update the model using the calculated target value\n",
    "        model.train_on_batch(tf.convert_to_tensor(np.expand_dims(state, 0)), tf.convert_to_tensor(tf.expand_dims(target, 0)))\n",
    "\n",
    "        # update the total reward and the current state\n",
    "        total_reward += reward\n",
    "        state = next_state\n",
    "\n",
    "    # decrease epsilon over time to encourage exploration\n",
    "        if epsilon > 0.01:\n",
    "            epsilon *= 0.99\n"
   ]
  },
  {
   "cell_type": "code",
   "execution_count": 14,
   "metadata": {},
   "outputs": [
    {
     "name": "stderr",
     "output_type": "stream",
     "text": [
      "/home/nariman351/anaconda3/envs/playground/lib/python3.8/site-packages/gym/envs/registration.py:555: UserWarning: \u001b[33mWARN: The environment CartPole-v0 is out of date. You should consider upgrading to version `v1`.\u001b[0m\n",
      "  logger.warn(\n",
      "/home/nariman351/.local/lib/python3.8/site-packages/numpy/lib/shape_base.py:591: VisibleDeprecationWarning: Creating an ndarray from ragged nested sequences (which is a list-or-tuple of lists-or-tuples-or ndarrays with different lengths or shapes) is deprecated. If you meant to do this, you must specify 'dtype=object' when creating the ndarray.\n",
      "  a = asanyarray(a)\n"
     ]
    },
    {
     "ename": "ValueError",
     "evalue": "Failed to convert a NumPy array to a Tensor (Unsupported object type numpy.ndarray).",
     "output_type": "error",
     "traceback": [
      "\u001b[0;31m---------------------------------------------------------------------------\u001b[0m",
      "\u001b[0;31mValueError\u001b[0m                                Traceback (most recent call last)",
      "Cell \u001b[0;32mIn [14], line 42\u001b[0m\n\u001b[1;32m     39\u001b[0m     action \u001b[39m=\u001b[39m env\u001b[39m.\u001b[39maction_space\u001b[39m.\u001b[39msample()\n\u001b[1;32m     40\u001b[0m \u001b[39melse\u001b[39;00m:\n\u001b[1;32m     41\u001b[0m     \u001b[39m# use the model to predict the action with the highest value\u001b[39;00m\n\u001b[0;32m---> 42\u001b[0m     action \u001b[39m=\u001b[39m tf\u001b[39m.\u001b[39margmax(model(np\u001b[39m.\u001b[39;49mexpand_dims(state, \u001b[39m0\u001b[39;49m)), \u001b[39m1\u001b[39m)\u001b[39m.\u001b[39mnumpy()[\u001b[39m0\u001b[39m]\n\u001b[1;32m     44\u001b[0m \u001b[39m# take the action and observe the new state, reward, and done flag\u001b[39;00m\n\u001b[1;32m     45\u001b[0m next_state, reward, done, _, _ \u001b[39m=\u001b[39m env\u001b[39m.\u001b[39mstep(action)\n",
      "File \u001b[0;32m~/anaconda3/envs/playground/lib/python3.8/site-packages/keras/utils/traceback_utils.py:70\u001b[0m, in \u001b[0;36mfilter_traceback.<locals>.error_handler\u001b[0;34m(*args, **kwargs)\u001b[0m\n\u001b[1;32m     67\u001b[0m     filtered_tb \u001b[39m=\u001b[39m _process_traceback_frames(e\u001b[39m.\u001b[39m__traceback__)\n\u001b[1;32m     68\u001b[0m     \u001b[39m# To get the full stack trace, call:\u001b[39;00m\n\u001b[1;32m     69\u001b[0m     \u001b[39m# `tf.debugging.disable_traceback_filtering()`\u001b[39;00m\n\u001b[0;32m---> 70\u001b[0m     \u001b[39mraise\u001b[39;00m e\u001b[39m.\u001b[39mwith_traceback(filtered_tb) \u001b[39mfrom\u001b[39;00m \u001b[39mNone\u001b[39m\n\u001b[1;32m     71\u001b[0m \u001b[39mfinally\u001b[39;00m:\n\u001b[1;32m     72\u001b[0m     \u001b[39mdel\u001b[39;00m filtered_tb\n",
      "File \u001b[0;32m~/anaconda3/envs/playground/lib/python3.8/site-packages/tensorflow/python/framework/constant_op.py:102\u001b[0m, in \u001b[0;36mconvert_to_eager_tensor\u001b[0;34m(value, ctx, dtype)\u001b[0m\n\u001b[1;32m    100\u001b[0m     dtype \u001b[39m=\u001b[39m dtypes\u001b[39m.\u001b[39mas_dtype(dtype)\u001b[39m.\u001b[39mas_datatype_enum\n\u001b[1;32m    101\u001b[0m ctx\u001b[39m.\u001b[39mensure_initialized()\n\u001b[0;32m--> 102\u001b[0m \u001b[39mreturn\u001b[39;00m ops\u001b[39m.\u001b[39;49mEagerTensor(value, ctx\u001b[39m.\u001b[39;49mdevice_name, dtype)\n",
      "\u001b[0;31mValueError\u001b[0m: Failed to convert a NumPy array to a Tensor (Unsupported object type numpy.ndarray)."
     ]
    }
   ],
   "source": [
    "import gym\n",
    "import tensorflow as tf\n",
    "\n",
    "# create the cartpole environment\n",
    "env = gym.make('CartPole-v0')\n",
    "\n",
    "# set the number of iterations and the initial value for epsilon\n",
    "num_iterations = 1000\n",
    "epsilon = 0.1\n",
    "\n",
    "# get the shape of the observation and action spaces\n",
    "obs_shape = env.observation_space.shape\n",
    "num_actions = env.action_space.n\n",
    "\n",
    "# create the model using the Keras functional API\n",
    "inputs = tf.keras.Input(shape=obs_shape)\n",
    "x = tf.keras.layers.Dense(64, activation='relu')(inputs)\n",
    "x = tf.keras.layers.Dense(64, activation='relu')(x)\n",
    "outputs = tf.keras.layers.Dense(num_actions)(x)\n",
    "model = tf.keras.Model(inputs, outputs)\n",
    "\n",
    "# compile the model with the Adam optimizer and the mean squared error loss function\n",
    "model.compile(optimizer=tf.keras.optimizers.Adam(0.01), loss='mse')\n",
    "\n",
    "# run the main loop for the specified number of iterations\n",
    "for i in range(num_iterations):\n",
    "    # reset the environment to the starting state\n",
    "    state = env.reset()\n",
    "\n",
    "    # initialize the reward and the done flag\n",
    "    total_reward = 0\n",
    "    done = False\n",
    "\n",
    "    # run the inner loop until the episode is done\n",
    "    while not done:\n",
    "        # determine the action using an epsilon-greedy policy\n",
    "        if np.random.uniform(0, 1) < epsilon:\n",
    "            # take a random action\n",
    "            action = env.action_space.sample()\n",
    "        else:\n",
    "            # use the model to predict the action with the highest value\n",
    "            action = tf.argmax(model(np.expand_dims(state, 0)), 1).numpy()[0]\n",
    "\n",
    "        # take the action and observe the new state, reward, and done flag\n",
    "        next_state, reward, done, _, _ = env.step(action)\n",
    "\n",
    "        # calculate the target value for the current state and action\n",
    "        target = reward + 0.99 * tf.reduce_max(model(np.expand_dims(next_state, 0))).numpy()\n",
    "\n",
    "        # update the model using the calculated target value\n",
    "        model.train_on_batch(np.expand_dims(state, 0), np.expand_dims(target, 0))\n",
    "\n",
    "        # update the total reward and the current state\n",
    "        total_reward += reward\n",
    "        state = next_state\n",
    "\n",
    "    # decrease epsilon over time to encourage exploration\n",
    "    if epsilon > 0.01:\n",
    "        epsilon *= 0.99\n"
   ]
  },
  {
   "cell_type": "code",
   "execution_count": null,
   "metadata": {},
   "outputs": [],
   "source": []
  }
 ],
 "metadata": {
  "kernelspec": {
   "display_name": "Python 3.8.13 ('playground')",
   "language": "python",
   "name": "python3"
  },
  "language_info": {
   "codemirror_mode": {
    "name": "ipython",
    "version": 3
   },
   "file_extension": ".py",
   "mimetype": "text/x-python",
   "name": "python",
   "nbconvert_exporter": "python",
   "pygments_lexer": "ipython3",
   "version": "3.8.13"
  },
  "orig_nbformat": 4,
  "vscode": {
   "interpreter": {
    "hash": "5046f43902da03e4695ce5c4d581ff955443bef194161c0209895afa80525767"
   }
  }
 },
 "nbformat": 4,
 "nbformat_minor": 2
}
